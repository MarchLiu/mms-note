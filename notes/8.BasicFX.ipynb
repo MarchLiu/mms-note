{
 "cells": [
  {
   "cell_type": "markdown",
   "id": "e79a16d3-7bd9-4ba0-b231-a3c40b1849f0",
   "metadata": {},
   "source": [
    "# 整数的一些基本代数知识\n",
    "\n",
    "本来，我准备从矩阵或者行列式开始做笔记，不过这一章读着满亲切的，不妨记一记，就当老年人的复健运动吧。\n",
    "\n",
    "有多亲切？我大学第一堂代数课就讲的这些。\n",
    "\n",
    "第二天？第二天就行列式了。\n",
    "\n",
    "这门课给我最深刻的印象是，如果在代数课上掉了支笔，下课再去捡。\n",
    "\n",
    "数学分析？数学分析不捡笔也听不懂的，放心。\n",
    "\n",
    "当然，这仅对大一新生，后面的代数一点儿也不简单。"
   ]
  },
  {
   "cell_type": "markdown",
   "id": "2ab9dcdb-d7f1-42bd-aa01-fa42f8013bf8",
   "metadata": {},
   "source": [
    "## 除法和欧几里得算法"
   ]
  },
  {
   "cell_type": "markdown",
   "id": "712c0e5b-4b96-4a1d-84a6-e0346a7a7438",
   "metadata": {},
   "source": [
    "### 命题 1.1 \n",
    "\n",
    "对于整数 a 和 b $b\\neq0$，存在唯一的整数 q 和 r。使得 $a = bq+r$ 及 $0\\le r \\le \\left|b\\right|$ 。 $\\tag{Prop 1.1}$"
   ]
  },
  {
   "cell_type": "markdown",
   "id": "5bff6dc6-14fa-4c6f-bcef-2ff38bdeeedb",
   "metadata": {},
   "source": [
    "### 命题 1.2\n",
    "\n",
    "给定整数 a 和 b $b\\neq 0$，令 $d = GCD(a, b)$ 。有\n",
    "1. d就是欧几里得算法中的 $r_n$\n",
    "2. 任何同时整除 a 和 b 的整数 $d'$ 一定整除 d\n",
    "3. 存在整数 x 和 y 使得 $ax+by=d$\n",
    "\n",
    "命题 1.2 （3）也被称为 Bezout 等式"
   ]
  },
  {
   "cell_type": "markdown",
   "id": "553d6da5-84e2-4dff-8bf7-18afd89376fb",
   "metadata": {},
   "source": [
    "### 推论 1.3\n",
    "\n",
    "任给 $\\mathbb{Z}$ 中的非零整数 c，如果 c 整除 mn，且 $GCD(c, m)=1$ ，则 c 整除 n 。"
   ]
  },
  {
   "cell_type": "markdown",
   "id": "bb1cc8a3-c58c-4e4a-8f40-09a1bbf6b64b",
   "metadata": {},
   "source": [
    "### 推论 1.4\n",
    "\n",
    "如果 $\\mathbb{Z}$中的非零整数 a 和 b，有 $GCD(a, b)=1$，并且它们都整除 m，则 $ab$ 也整除 m。"
   ]
  },
  {
   "cell_type": "markdown",
   "id": "e8b7a7f3-67fe-46c7-b2ec-4e8dc41dbe45",
   "metadata": {},
   "source": [
    "## 整数的质因子\n"
   ]
  },
  {
   "cell_type": "markdown",
   "id": "bb1d470e-548b-4293-92cf-0b806e1ed5af",
   "metadata": {},
   "source": [
    "### 定理 1.5 算术基本定理\n",
    "\n",
    "将 1 定义为空乘积，则每个正整数 n 都可以写成质因子分解 $n=p_1p_2...p_r$ 。这里的素因子分解是唯一的，如果有 $n=q_1q_2...q_s$，则有 $r=s$ ，且对于 $1\\le j\\le r$，因子 $p_j=q_j$ 。"
   ]
  },
  {
   "cell_type": "markdown",
   "id": "bc7623ae-6c1d-4129-b6fc-037af5fd968d",
   "metadata": {},
   "source": [
    "### 引理 1.6 欧几里得引理\n",
    "\n",
    "对于整数集 $\\mathbb{Z}$ 中的质数 p ，如果p整除 a 和 b 的积，要么 p 整除 a，要么 p 整除 b。"
   ]
  },
  {
   "cell_type": "markdown",
   "id": "e6a90125-3927-443c-bfee-1b3a9904b9a3",
   "metadata": {},
   "source": [
    "### 整数的质因子分解展开\n",
    "\n",
    "将整数n写为素数序列的乘积展开 $p_{1}^{k_1}...p_{r}^{k_r}$，使 p 按整数序排列，上标表示$p_j$的数目，并将个数为0的素数p省略，保留 $k\\ge 0$，的因子，即为整数的质因子分解。\n",
    "\n",
    "这很显然，其实就是每个素因子的出现次数等于它在n的分解中的幂次，那么不存在于n的素因子分解中的素数恰好是0次幂。\n"
   ]
  },
  {
   "cell_type": "markdown",
   "id": "3615e2de-dacc-4b12-9dde-ea13c05ada5c",
   "metadata": {},
   "source": [
    "### 推论 1.7\n",
    "\n",
    "如果 $n=p_{1}^{k_1}...p_{r}^{k_r}$ 是整数 n 的质因子分解，则对于所有满足 $0\\le l_j \\le k_j$ 的 j，总是有 $d=p_{1}^{l_1}...p_{r}^{l_r}$ 整除 n。\n",
    "\n",
    "这里可以理解成整数n的素因子分解的子集总是能构成一个可以整除n的整数d。\n",
    "\n",
    "推广到 $\\mathbb{Z}$ 时，给正整数分解乘上对应的 $\\pm 1$ 即可。"
   ]
  },
  {
   "cell_type": "markdown",
   "id": "6f985266-64f0-4c5b-adae-37db108a9afe",
   "metadata": {},
   "source": [
    "### 推论 1.8\n",
    "\n",
    "如果两个整数 a 和 b 的素因子分解为 $a=_{1}^{k_1}...p_{r}^{k_r}$ 和 $b = p_{1}^{l_1}...p_{r}^{l_r}$，则有\n",
    "\n",
    "$$\n",
    "GCD(a, b) = p_{1}^{\\min(k_1, l_1)}...p_{r}^{\\min(k_r, l_r)}\n",
    "$$\n",
    "\n",
    "从集合的角度，这很显然。"
   ]
  },
  {
   "cell_type": "markdown",
   "id": "a3d389a5-7f36-4c2b-97a5-0d20a29a413b",
   "metadata": {},
   "source": [
    "### 推论 1.9 中国剩余定理\n",
    "\n",
    "如 a 和 b 互质，对于每一对满足 $0 \\le r \\le a$ 和 $0 \\le s \\le b$ 的整数 $(s, r)$，存在唯一的 n 满足 $0 \\le n \\le ab$ ，使得 a 整除 $n-r$ ，b 整除 $n-s$。并且对于任意 $0 \\le n \\le ab$ ，都有对应的 $(r, s)$ 整数对。\n",
    "\n",
    "也就是说，如果 $GCD(a, b)=1$，对任意$0 \\le r \\le a$ 和 $0 \\le s \\le b$， 存在唯一的 $0 \\le n \\le ab$ 使得 $n\\equiv r \\, mode\\, a$ 和 $n \\equiv s \\, mode \\, b$ 。\n",
    "\n",
    "中国剩余定理对两两互质的多个整数仍然有效，[维基百科](https://zh.wikipedia.org/wiki/%E4%B8%AD%E5%9B%BD%E5%89%A9%E4%BD%99%E5%AE%9A%E7%90%86)上介绍了这种情况。"
   ]
  },
  {
   "cell_type": "markdown",
   "id": "cbfbadf5-84b0-460e-9852-194df15ec7a7",
   "metadata": {},
   "source": [
    "### 欧拉 $\\varphi$ 函数\n",
    "\n",
    "对于正整数 n ，我们定义欧拉 $\\varphi$ 函数为满足 $0 \\le k \\le n$ 的所有与n互质的k的个数。"
   ]
  },
  {
   "cell_type": "markdown",
   "id": "82c01d7b-ca17-47ad-95da-7e6246cb5f99",
   "metadata": {},
   "source": [
    "### 推论 1.10\n",
    "\n",
    "取整数 N > 1，令 $N = p_{1}^{k_1}...p_{r}^{k_r}$ 为 N 的素因子分解，则有\n",
    "\n",
    "$$\n",
    "\\varphi(N) = \\Pi_{j=1}^{r}p_{j}^{k_j-1}(p_j - 1)\n",
    "$$"
   ]
  },
  {
   "cell_type": "markdown",
   "id": "e9b52e0b-8a34-4b50-90e6-d3b79fc86f7d",
   "metadata": {},
   "source": [
    "### 推论 1.11\n",
    "\n",
    "对于正整数 $a_1, a_2, ..., a_t$ ，如果 d 是它们的最大公约数，则\n",
    "\n",
    "1. 对于每一个满足 $1 \\le j \\le t $ 的整数 j，$a_j=_{1}^{k_{1,j}}...p_{r}^{k_{r,j}}$ 是 $a_j$ 的素因子展开，那么它遵循\n",
    "  $$\n",
    "d = p_{1}^{\\min_{1\\le j \\le t}(k_1, j)}...p_{r}^{\\min_{1\\le j \\le t}(k_r, j)}\n",
    "  $$\n",
    "2. 任何 $a_1, a_2, ..., a_t$ 的公因子 d' 都必须整除 d。\n",
    "3. 如果 $t > 1$，$d = GCD(GCD(a_1, . . . , a_t−1), a_t)$\n",
    "4. 存在整数 $x_1, x_2, ... x_t$ 使得 $a_1x_1+...+a_tx_t=d$"
   ]
  },
  {
   "cell_type": "markdown",
   "id": "7071c953-6ae8-4b7f-8e77-bc90033fd0d2",
   "metadata": {},
   "source": [
    "## 多项式的质因子分解\n",
    "\n",
    "这一章作者提到了一些域的内容，虽然近乎于无，但是理论上说读到这里时，读者应该还不具备理解群环域的能力。在实际授课时，讲师应该需要花几分钟简单介绍一下。至少介绍一下为什么$\\mathbb{Q}$，$\\mathbb{R}$，$\\mathbb{C}$ 都是域 $\\mathbb{F}$。\n",
    "\n"
   ]
  },
  {
   "cell_type": "markdown",
   "id": "0ceb5b26-f38d-41c1-b81d-b0a93fc6dc5d",
   "metadata": {},
   "source": [
    "多项式的和与积不多讨论了，都是比较朴素的内容，这里需要注意一下很多时候作者是从相当高的视角去看待这些“初等的高等数学”问题，所以有些内容其实涉及了一些高级的抽象概念。\n",
    "\n",
    "多项式的最高次项的次数，过去我学到的是称之为多项式的次数，这里用了度 degree，简写为 $deg\\,P$ 。如果我出现了混用，视作同一概念就可以。\n",
    "\n",
    "这里提及了多项式的线性性质。\n",
    "\n",
    "$$\n",
    "\\begin{aligned}\n",
    "(P + Q)(r ) &= P(r ) + Q(r ),\\\\\n",
    "(P − Q)(r ) &= P(r ) − Q(r ),\\\\\n",
    "(cP)(r ) &= cP(r ),\\\\\n",
    "(PQ)(r ) &= P(r )Q(r ).\\\\\n",
    "\\end{aligned}\n",
    "$$\n",
    "\n",
    "以及一个基本概念：对于$P \\mapsto P(\\cdot)$，如果 $P(r)=0$，称 r 为 P 的一个根。"
   ]
  },
  {
   "cell_type": "markdown",
   "id": "e43c3649-e397-4bc1-9e77-e4ec01cda268",
   "metadata": {},
   "source": [
    "### 素多项式\n",
    "\n",
    "如果没有非平凡多项式 $B$ 和 $Q$ 使得 $P=BQ$，那么称 P 为素多项式。即不可约多项式。\n"
   ]
  },
  {
   "cell_type": "markdown",
   "id": "cc014801-34b4-4fdc-814c-64030dc9b4cb",
   "metadata": {},
   "source": [
    "### 命题 1.12\n",
    "\n",
    "*除法* 对于 $\\mathbb{F}$ 中的多项式 A 和非零多项式 B，存在\n",
    "1. $A=BQ+R$\n",
    "2. R 是 0 多项式或者 $deg\\,R < deg\\,B$\n",
    "\n",
    "也可以写作 $A/B=Q+R/B$ 。"
   ]
  },
  {
   "cell_type": "markdown",
   "id": "d4c21326-1647-46d7-9450-84f03be3bc7f",
   "metadata": {},
   "source": [
    "### 推论 1.13\n",
    "\n",
    "*因式定理* 如果 P 是 $\\mathbb{F}\\left[X\\right]$ 中的多项式，r 属于 $\\mathbb{F}$，那么 $P(r)=0$ 是 $(X-r)$ 整除 P 的充分必要条件。"
   ]
  },
  {
   "cell_type": "markdown",
   "id": "517c6f61-9601-4448-b0f9-de0fda756f21",
   "metadata": {},
   "source": [
    "### 推论 1.14\n",
    "\n",
    "如果 P 是系数属于 $\\mathbb{F}$ 的非零多项式，并且 $n=deg\\,P$ 那么 P 有最多 n 个不同的根。\n",
    "\n",
    "\n"
   ]
  },
  {
   "cell_type": "markdown",
   "id": "6abc0f5f-5545-44ce-a1aa-ef242cbf87e7",
   "metadata": {},
   "source": [
    "### 多项式的欧几里得算法\n",
    "\n",
    "$$\n",
    "\\begin{aligned}\n",
    "A &= BQ_1 + R_1, &R1 &= 0 \\,or\\, deg\\, R_1 < deg\\, B,\\\\\n",
    "B &= R_1Q_2 + R_2, &R2 &= 0 \\,or\\, deg\\, R_2 < deg\\, R_1,\\\\\n",
    "R_1 &= R_2Q_3 + R_3, &R3 &= 0 \\,or\\, deg\\, R_3 < deg\\, R_2,\\\\\n",
    "...\\\\\n",
    "R_{n−2} &= R_{n−1}Q_n + R_n, &R_n &= 0 \\,or\\, deg\\, R_n < deg\\, R_{n−1},\\\\\n",
    "R_{n−1} &= R_nQ_{n+1}.\n",
    "\\end{aligned}\n",
    "$$"
   ]
  },
  {
   "cell_type": "markdown",
   "id": "064c94da-36ad-49ac-b625-9eb0ee736ce5",
   "metadata": {},
   "source": [
    "### 推论 1.15\n",
    "\n",
    "A 和 B 是 $\\mathbb{F}\\left[X\\right]$ 中的多项式，且 $B\\neq 0$，有 $R_1...R_n$ 为欧几里得算法作用于 A 和 B，生成的多项式序列，那么\n",
    "1. $R_n$是 A 和 B 的最大公因式\n",
    "2. 任何同时整除 A 和 B 的多项式 D_1 一定整除R_n。\n",
    "3. A 和 B 的最大公因式对于非零标量乘法是唯一的\n",
    "4. 对于任何最大公因式 D，存在多项式 P 和 Q 满足 $AP+BQ=D$"
   ]
  },
  {
   "cell_type": "markdown",
   "id": "d7c1c353-ac57-42c2-a5c4-65158ec560d2",
   "metadata": {},
   "source": [
    "### 引理 1.16\n",
    "\n",
    "如果 A 和 B 是系数属于 $\\mathbb{F}$ 的非零多项式，而 P 是整除 AB 的素多项式，必有 P 要么整除 A，要么整除 B。\n"
   ]
  },
  {
   "cell_type": "markdown",
   "id": "cd6b6c42-ebd7-4f2d-9af6-1f9b9defc93b",
   "metadata": {},
   "source": [
    "### 定理 1.17 \n",
    "\n",
    "*唯一因式分解* 每个 $\\mathbb{F}\\left[X\\right]$ 的次数大于等于1的成员，都可以分解为素多项式的乘积。这个因式分解是唯一的，与每个因式的顺序无关，可以乘以任意的单位元，即标量系数。"
   ]
  },
  {
   "cell_type": "markdown",
   "id": "a749cf5f-6b51-42e8-a650-ad04d5565ea9",
   "metadata": {},
   "source": [
    "### 定理 1.18\n",
    "\n",
    "*代数基本定理* 任意复数域 $\\mathbb{C}\\left[X\\right]$ 上次数大于等于 1 的多项式都有至少一个根。\n"
   ]
  },
  {
   "cell_type": "markdown",
   "id": "e314d02d-1144-417f-abcd-e21bfdece4e6",
   "metadata": {},
   "source": [
    "### 推论 1.19\n",
    "\n",
    "令 P 是 $\\mathbb{C}\\left[X\\right]$ 上的非零多项式，$r_1,...r_k$ 是不重复的根。则对于$ 1 \\le j \\le k$都存在唯一的整数 $m_j > 0$，使 \n",
    "$$\n",
    "P(X) = \\Pi_{j=1}^k (X - r_j)^{m_j}\n",
    "$$\n",
    "和\n",
    "$$\n",
    "\\begin{aligned}\n",
    "\\sum_{j=1}^k m_j = n\n",
    "\\end{aligned}\n",
    "$$\n",
    "成立。"
   ]
  },
  {
   "cell_type": "markdown",
   "id": "916fdda1-88b4-456f-b20c-f98b52a086c0",
   "metadata": {},
   "source": [
    "### 命题 1.20\n",
    "\n",
    "实数域 $\\mathbb{R}\\left[X\\right]$的任意奇次多项式都有至少一个根。"
   ]
  }
 ],
 "metadata": {
  "kernelspec": {
   "display_name": "Python 3 (ipykernel)",
   "language": "python",
   "name": "python3"
  },
  "language_info": {
   "codemirror_mode": {
    "name": "ipython",
    "version": 3
   },
   "file_extension": ".py",
   "mimetype": "text/x-python",
   "name": "python",
   "nbconvert_exporter": "python",
   "pygments_lexer": "ipython3",
   "version": "3.13.0"
  }
 },
 "nbformat": 4,
 "nbformat_minor": 5
}
