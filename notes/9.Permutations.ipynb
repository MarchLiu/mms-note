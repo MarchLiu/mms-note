{
 "cells": [
  {
   "cell_type": "markdown",
   "id": "01437da7-4d1d-46de-84a6-f8df7db77118",
   "metadata": {},
   "source": [
    "# 置换\n",
    "\n",
    "这是前面的笔记 Basic FX 的延续，是 Basic Algebra 的 1.4 节。\n"
   ]
  },
  {
   "cell_type": "markdown",
   "id": "cf702c95-576c-44a9-984f-6fb4881564df",
   "metadata": {},
   "source": [
    "## 置换及其符号\n",
    "\n",
    "置换本身是个很基础的概念，对于有限非空集 S，置换 P 是将 S 中的元素一一对应到 S 中的操作。\n",
    "\n",
    "仅考虑 S 的结构，即元素的位置后，可以将 S 表示为自然数列 $1, 2, ..., n$，这样就可以用数值函数表示置换效应。因此置换 $\\sigma$ 作用于 j 的值是 $\\sigma(j)$ 。\n",
    "\n",
    "组合 $\\sigma \\circ \\tau$ 表示依次进行 $\\tau$ 和 $\\sigma$ 置换，可以简写为 $\\sigma\\tau$ ，且有 $(\\sigma\\tau)j=\\sigma(\\tau(j))$。组合满足结合律。两个置换的组合也可以称作置换的乘积。\n",
    "\n",
    "单位置换表示为1。而置换可以表示为一一对应的函数。置换 $\\sigma$ 和逆元 $\\sigma^{-1}$有 $\\sigma^{-1}\\sigma=\\sigma\\sigma^{-1}=1$的性质。\n",
    "\n"
   ]
  },
  {
   "cell_type": "markdown",
   "id": "c2960deb-1e51-46a1-aec1-ffbfa8f00e6c",
   "metadata": {},
   "source": [
    "本书用矩阵 $\\sigma=\\left(\\begin{matrix}1 & 2 & 3 & 4 & 5 \\\\ 4 & 3 & 5 & 1 & 2\\end{matrix}\\right)$ 表示 $\\{1\\,2\\,3\\,4\\,5\\}$ 的置换 $\\sigma(1) = 4, \\sigma(2) = 3, \\sigma(3) = 5, \\sigma(4) = 1, \\sigma(5) = 2$。反置换$\\sigma=\\left(\\begin{matrix}4 & 3 & 5 & 1 & 2 \\\\ 1 & 2 & 3 & 4 & 5 \\end{matrix}\\right)$ 可以整理为 $\\sigma^{-1}=\\left(\\begin{matrix}1 & 2 & 3 & 4 & 5 \\\\ 4 & 5 & 2 & 1 & 3\\end{matrix}\\right)$ 。\n",
    "\n",
    "对于 $2 \\le k \\le n$，k-循环表示一个置换 $\\sigma$，其保持某个 n-k 子集不变，对剩下的元素进行置换：$\\sigma(c_1) = c_2, \\sigma(c_2) = c_3, . . . , \\sigma(c_{k−1}) = c_k , \\sigma(c_k) = c_1$ 。这样的循环置换可以表示为 $(c_1\\,c_2\\,· · · c_{k−1}\\,c_k)$ 。例如5阶群的 3-循环 $\\sigma=(2\\,3\\,5)$ 代表置换 $\\left(\\begin{matrix}1 & 2 & 3 & 4 & 5 \\\\ 1 & 3 & 5 & 4 & 2\\end{matrix}\\right)$ 。"
   ]
  },
  {
   "cell_type": "markdown",
   "id": "f69df289-9a27-4f01-ac0f-10091ac5ecda",
   "metadata": {},
   "source": [
    "循环 $(2\\,3\\,5)$ 等价于 $(3\\,5\\,2)$ 和 $(5\\,2\\,3)$ 。"
   ]
  },
  {
   "cell_type": "markdown",
   "id": "36c982a4-e47d-4ad9-b837-3301cf4a4b3c",
   "metadata": {},
   "source": [
    "如果两个循环移动的元素子集不相交，则称这两个循环不相交。例如$(2\\,3\\,5)$和$(1\\,4)$不相交，但是$(2\\,3\\,5)$和$(1\\,3)$相交。对于n个循环，如果两两不相交，则称这些循环是不相交的。对于任意两个不相交的循环，它们满足交换律 $\\sigma\\tau=\\tau\\sigma$。"
   ]
  },
  {
   "cell_type": "markdown",
   "id": "1da3df4c-9e3b-484e-a066-61bcbd321c7d",
   "metadata": {},
   "source": [
    "## 命题 1.21 \n",
    "\n",
    "任何$\\{1, 2, . . . , n\\}$的置换$\\sigma$都是不相交循环的积。例如\n",
    "$$\n",
    "\\left(\\begin{matrix}1 & 2 & 3 & 4 & 5 \\\\ 4 & 3 & 5 & 1 & 2\\end{matrix}\\right) = (2\\,3\\,5)(1\\,4)\n",
    "$$\n",
    "对于特定的 $\\sigma$ 分解得到的循环是唯一的。\n",
    "\n",
    "这个命题的证明似乎有些书写错误，后面我也许会整理一下。现在先继续。\n",
    "\n",
    "二阶循环也被称作交换。"
   ]
  },
  {
   "cell_type": "markdown",
   "id": "df8c2804-e42d-4b87-b236-c186aaf9d736",
   "metadata": {},
   "source": [
    "## 推论 1.22\n",
    "当 $K > 1$，任意 ${1, 2, ...,n}$ 的k-循环置换 $\\sigma$ 是 $k-1$ 个交换的积。因此任意 ${1, 2, ...,n}$ 的置换 $\\sigma$ 是交换的积。"
   ]
  },
  {
   "cell_type": "markdown",
   "id": "6fca1b0c-d5e0-40ed-890a-45a8fe04b74c",
   "metadata": {},
   "source": [
    "## 引理 1.23\n",
    "\n",
    "令 $\\sigma$ 是 $\\{1, ...,n\\}$ 的置换，$(a\\, b)$ 是一个交换，则 $sgn(\\sigma(a\\,b))=-sgn(\\sigma)$ 。"
   ]
  },
  {
   "cell_type": "markdown",
   "id": "9dddcd5d-74d1-426d-9060-a3bb4eb54873",
   "metadata": {},
   "source": [
    "## 命题 1.24\n",
    "\n",
    "在 $\\{1, 2, ..., n\\}$ 上的置换 $\\sigma$ 有以下属性\n",
    "1. sgn 1 = 1\n",
    "2. 如果 $\\sigma$ 可以写为 k 个交换的积， sgn $\\sigma = (-1)^k$\n",
    "3. $sgn(\\sigma\\tau)=(sgn\\, \\sigma)(sgn\\, \\tau)$\n",
    "4. $sgn(\\sigma^{-1})=sgn\\,\\sigma$\n",
    "\n"
   ]
  },
  {
   "cell_type": "markdown",
   "id": "a5cc7ff6-cef8-4504-872b-55a560a315ad",
   "metadata": {},
   "source": [
    "对于可以通过一一对应的函数 $\\varphi$ 映射为 S的 S'，满足前述置换符号的性质，这个规则记为 $sgn_\\varphi=sgn(\\varphi^{-1}\\sigma\\varphi)$ ，它与具体的置换 $\\sigma$ 无关。"
   ]
  },
  {
   "cell_type": "markdown",
   "id": "b5329e48-b8c2-4c3c-a7ee-21e7e37501ea",
   "metadata": {},
   "source": []
  }
 ],
 "metadata": {
  "kernelspec": {
   "display_name": "Python 3 (ipykernel)",
   "language": "python",
   "name": "python3"
  },
  "language_info": {
   "codemirror_mode": {
    "name": "ipython",
    "version": 3
   },
   "file_extension": ".py",
   "mimetype": "text/x-python",
   "name": "python",
   "nbconvert_exporter": "python",
   "pygments_lexer": "ipython3",
   "version": "3.13.0"
  }
 },
 "nbformat": 4,
 "nbformat_minor": 5
}
