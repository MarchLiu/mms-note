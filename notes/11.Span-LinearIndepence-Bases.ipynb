{
 "cells": [
  {
   "cell_type": "markdown",
   "id": "0412d9b1-c1b7-47c2-8d0a-9fa0c0e98e67",
   "metadata": {},
   "source": [
    "# 生成，线性无关和基\n",
    "\n",
    "本篇是 Basic Algebra 的 2.1 。\n",
    "\n",
    "这里的张成集或生成集，对应的英语是 spanning set。我会不加区分的使用这两个译法，它们是同一个东西。"
   ]
  },
  {
   "cell_type": "markdown",
   "id": "21447e10-5c31-4161-9230-f5d4bd3c21b7",
   "metadata": {},
   "source": [
    "## 数域上的向量空间\n",
    "\n",
    "向量空间是基于数域的集合，它支持从 $V \\times V$到$V$的向量加法和标量乘法 $F \\times V$ 到 $V$。这些计算要满足以下的性质：\n",
    "\n",
    "1. 加法写作 + ，要满足\n",
    "    1. $v_1+(v_2+v_3)=(v_1+v_2)+v_3$\n",
    "    2. 对于 $V$ 中所有的 $v$ ，存在一个 0 元使得 $v+0=0+v=v$\n",
    "    3. $V$ 中的每个 $v$ 都在 $V$ 中有一个对应的 $-v$ 使得 $v+ -v=-v+v=0$\n",
    "    4. 结合律，即对所有 $V$ 中的 $v_1$ 和 $v_2$，都有 $v1+v2=v2+v1$\n",
    "2. 标量乘法要满足\n",
    "    1. 对于所有的标量$a$和$b$以及$V$中的$v$，都满足$a(bv)=(ab)v$\n",
    "    2. 对于标量1，所有 $V$ 中的 $v$ 都满足 $1v=v$\n",
    "3. 这两个操作支持相关的分配律\n",
    "    1. 对于 $V$ 中的 $v_1$ 和 $v_2$ 和数域中的标量$a$，$a(v_1+v_2) = av_1+av_2$\n",
    "    2. 对于 $V$ 中的 $v$ 和数域中的标量 $a$ 和 b，$(a+b)v=av+bv$\n",
    "\n",
    "于是我们得到\n",
    "1. 0 元是唯一的（因为 $0'=0'+0=0$）\n",
    "2. $-v$ 是唯一的（因为 $(−v)0 = (−v)0 + 0 = (−v)0 + (v + (−v)) = ((−v)0 + v) + (−v) = 0 + (−v) = (−v)),）$\n",
    "3. $0v=0$ (因为 $0v=(0+0)v=0v+0v$ )\n",
    "4. $-1v=-v$（因为 $0=0v=(1+-1)v=1v+(-1)v=v+(-1)v$）\n",
    "5. $a0=0$（因为 $a0=a(0+0)=a0+a0$）"
   ]
  },
  {
   "cell_type": "markdown",
   "id": "3c1a14b9-dac3-4cad-abf5-604acba43fc5",
   "metadata": {},
   "source": [
    "这里是一些简单的例子：\n",
    "\n",
    "1. $V=M_{kn}(\\mathbb{F})$ ，所有 k 行 n 列的矩阵，构成向量空间。当 $n=1$，表示所有 $\\mathbb{F}^k$ 维列向量组成的向量空间。当 $k=n=1$，此时会得到一个标量构成的向量空间。\n",
    "2. $S$是任意的非空集，令$V$是 S 到 $\\mathbb{F}$ 的所有函数，定义 $( f + g)(s) = f (s) + g(s) $ 和 $ (c f )(s) = c( f (s))$ 。把等式右边的部分视作数域 $\\mathbb{F}$ 的计算，则V也构成向量空间。\n",
    "3. 推广例2，令 S 是非空集，U 是 $\\mathbb{F}$ 上的向量空间，V 是 S 到 $\\mathbb{F}$ 的所有函数。如例2一样定义操作 $( f + g)(s) = f (s) + g(s) $ 和 $ (c f )(s) = c( f (s))$，将等式右边的部分视作 U 上的计算，也可以得到向量空间。\n",
    "4. 令 V 是复数域 $\\mathbb{C}$ 的向量空间，限制标量乘法为 $\\mathbb{V} \\times V \\rightarrow V$，则 V 就成为 $\\mathbb{R}$ 上的向量空间，特别的，$\\mathbb{C}$ 是 $\\mathbb{R}$ 上的向量空间。\n",
    "5. 令 $V=\\mathbb{F}[X]$ 是系数在 $\\mathbb{F}$ 上的所有一元多项式，如 Section 1.3 一般定义向量加法和标量乘法，则 V 构成向量空间。\n",
    "6. 令 V 是 $\\mathbb{F}$ 上的任意向量空间，U 是它对加法和标量乘法封闭的非空子集，那么 U 是 $\\mathbb{F}$ 上的向量空间，这样的 U 被称作 V 的向量子空间，无歧义时也可以简称为子空间。\n",
    "7. 令 V 是 $\\mathbb{F}$ 上的任意向量空间，令 $U=\\{v_\\alpha\\}$ 为 V 的任意子集。U 成员的有限线性组合是形如 $c_{\\alpha 1}v_{\\alpha_1}+ ... + c_{\\alpha n}v_{\\alpha_n}$ 的计算d，每个系数 $c_j$ 属于 $\\mathbb{F}$，且 $n\\ge 0 $，则U的所有有限线性组合的集合称为 U 的线性扩张。这是一个 V 的向量子空间，由 $ span\\, \\{ v_{\\alpha} \\} $ 定义。我们约定 $ span\\, \\varnothing= 0 $。\n",
    "8. 在一些数学的分支，通过附加的结构，定义了一些向量子空间。例如，如例2所示，令 V 为所有 $\\mathbb{R}^3$ 到 $\\mathbb{R}$ 的函数构成的向量空间，V 的所有连续成员构成的子集 U 成为一个向量子空间。从 $\\mathbb{R}^3 \\times \\mathbb{R}^3 $ 到 $\\mathbb{R}^3$ 的加法和 $\\mathbb{R} \\times \\mathbb{R}^3$ 到 $\\mathbb{R}^3$ 的标量乘法也构成连续的闭包。另一个向量子空间的例子是 $\\frac{\\partial^2}{\\partial x_1^2} + \\frac{\\partial^2}{\\partial x_2^2} + \\frac{\\partial^2}{\\partial x_3^2} + f=0$\n",
    "\n",
    "这些向量子空间定义的结合律和交换律，暗示了这里面有更基本的规律，表现出来的是一些特殊情况。基于结合律，给定 n 个向量 $v_1, v_2,..., v_n$，在 $v_1 + v_2 + ... + v_n$ 之间任意插入括号，总是能得到相同的结果。我们也可以对标量乘法的结合律得到类似的结论。结合律存在，则加法交换律意味着 $v_1 +v_2 +· · ·+v_n = v_{σ(1)} +v_{σ(2)} +· · ·+v_{σ(n)}$ 对于 $\\{1, ... n\\}$ 的任意排列成立。\n",
    "\n"
   ]
  },
  {
   "cell_type": "markdown",
   "id": "15f1e78d-404c-4297-9ee1-3731df4c7e8e",
   "metadata": {},
   "source": [
    "令 V 为 $\\mathbb{F}$ 上的向量空间。其子集 $\\{v_{\\alpha}\\}$ 是 V 的生成子集，或称线性生成集的条件是，在例 7 的场景中，$ \\{v_{\\alpha} \\} $ 可以张成 V 全体。子集 $ \\{v_{\\alpha}\\}$ 线性无关意味着任意有限线性组合 $c_{\\alpha_1}v_{\\alpha_1}+...+c_{\\alpha_n}v_{\\alpha_n}$ 为 0 的必要条件是 $c_{\\alpha_1}=...=c_{\\alpha_n}=0$。基于减法，可知在这种情况下两个有限线性组合\n",
    "\n",
    "$$\n",
    "c_{\\alpha_1}v_{\\alpha_n}+...+c_{\\alpha_n}v{\\alpha_n}=d_{\\alpha_1}v_{\\alpha_1}+...+c_{\\alpha_n}v_{\\alpha_n}\n",
    "$$\n",
    "\n",
    "意味着对于 $c \\le j \\le n$ 总有 $c_{\\alpha_j}=d_{\\alpha_j}$"
   ]
  },
  {
   "cell_type": "markdown",
   "id": "56e3416d-511e-4254-8d9e-d5f03eedf6be",
   "metadata": {},
   "source": [
    "如果线性无关子集 $\\{v_\\alpha\\}$ 张成 V，则它被称为 V 的基。这种情况下 V 中每个元素都可以唯一的表达为 $\\{v_\\alpha\\}$ 的有限线性组合。"
   ]
  },
  {
   "cell_type": "markdown",
   "id": "1b441e73-144e-4484-85f4-8db63b893674",
   "metadata": {},
   "source": [
    "例如 \n",
    "\n",
    "$$\n",
    "e_1=\\pmatrix{1\\\\0\\\\0\\\\\\vdots\\\\0},\\quad\n",
    "e_2=\\pmatrix{0\\\\1\\\\0\\\\\\vdots\\\\0},\\quad\n",
    "e_3=\\pmatrix{0\\\\0\\\\0\\\\\\vdots\\\\0},\\quad\n",
    "\\cdots,\\quad\n",
    "e_n=\\pmatrix{0\\\\0\\\\0\\\\\\vdots\\\\1}\n",
    "$$\n",
    "\n",
    "被称作 $\\mathbb{F}^n$ 的标准基。"
   ]
  },
  {
   "cell_type": "markdown",
   "id": "f509d2b2-4ae6-4361-b5f4-83c35fc45e7e",
   "metadata": {},
   "source": [
    "### 命题 2.1\n",
    "\n",
    "令 V 是 $\\mathbb{F}$ 上的向量空间。\n",
    "\n",
    "1) 如果 $\\{v_\\alpha\\}$ 达到最大的维度的线性无关，那么 $\\{v_\\alpha\\}$ 是 V 的基。\n",
    "2) 如果 $\\{v_\\alpha\\}$ 达到能够张成 V 的最小维度，那么 $\\{v_\\alpha\\}$ 是 V 的基。\n",
    "\n",
    "#### 证明\n",
    "\n",
    "对于命题 a），我们要用 $\\{v_\\alpha\\}$ 生成 v 。不失一般性，我们假设某个 v 不在 $\\{v_\\alpha\\}$ 中，由最大维度的假设， $\\{v_\\alpha \\cup v \\}$ 不是线性无关的，因此存在不全为0的 $c_1, c_2, \\cdots, c_n$ 使 $cv+c_1v_1+\\cdots+c_nv_n=0$。因为 $\\{v_\\alpha\\}$ 使线性无关的，这里 $c\\neq 0$。那么 $v=-c^{-1}c_{\\alpha_1}v_{\\alpha_1}-\\cdots-c^{-1}c_{\\alpha_n}v_{\\alpha_n}$ ，我们由此得到了 v 的 $\\{v_\\alpha\\}$ 生成表示。\n",
    "\n",
    "对于命题 b) 我们假设有不全为 0 的 $c_{\\alpha_1}, c_{\\alpha_2}, \\cdots, c_{\\alpha_n}$ 使得 $c_{\\alpha_1}v_{\\alpha_1}+\\cdots+c_{\\alpha_n}v_{\\alpha_n} = 0$ 。那么我们可以求解 $v_{\\alpha_1}$ 为 $v_{\\alpha_2}, \\cdots, v_{\\alpha_n}$ 的有限线性组合。这表明任意 $v_{\\alpha}$ 的有限线性组合可以表示为 $v_\\alpha \\setminus v_{\\alpha_1}$ 的有限线性组合，这与我们假设 $v_\\alpha$ 是最小生成集相矛盾。"
   ]
  },
  {
   "cell_type": "markdown",
   "id": "f2f26a3c-3c0d-4eca-88dd-0c8b2da63bef",
   "metadata": {},
   "source": [
    "### 命题 2.2\n",
    "\n",
    "令 V 是 ${\\mathbb{F}}$ 上的向量空间，如果 V 由一个有限生成集 ${v_1, v_2, \\cdots, v_n}$，那么任意 v 中的线性无关集的元素数 $\\le m$ 。\n",
    "\n",
    "#### 证明\n",
    "\n",
    "假设 ${u_1, \\cdots, u_n}$ 是V中一个线性无关子集，且 n = m+1。则\n",
    "\n",
    "$$\n",
    "\\begin{aligned}\n",
    "u_1 & = c_{11}v_1+c_{21}v_2+\\cdots+c_{m1}v_m1,\\\\\n",
    "   & \\vdots \\\\\n",
    "u_n & = c_{1n}v_1+c_{2n}v_2+\\cdots+c_{mn}v_{mn}, \\\\\n",
    "\\end{aligned}\n",
    "$$\n",
    "\n",
    "那么线性方程组\n",
    "\n",
    "$$\n",
    "\\begin{aligned}\n",
    "c_{11}x_1 + \\cdot + c_{1m}x_n & = 0, \\\\ \n",
    "& \\vdots \\\\\n",
    "c_{m1}x_1 + \\cdots + c_{mn}x_n & = 0, \\\\\n",
    "\\end{aligned}\n",
    "$$\n",
    "\n",
    "是一个未知数多于方程数的其次线性方程组，由命题 1.26d，它由有非零解 $\\{x_1,\\cdots,x_n\\}$，而这与 ${u_1, \\cdots, u_n}$ 线性无关矛盾:\n",
    "\n",
    "$$\n",
    "\\begin{aligned}\n",
    "x_1u_1 + \\cdots + x_nu_n = &c_{11}x_1v_1 + &c_{21}x_2v_2 + &\\cdots& + c_{m1}x_{m1}v{m} \\\\\n",
    "                          &+ &+ & &+ \\\\\n",
    "                          &\\vdots & \\vdots   &    &\\vdots \\\\\n",
    "                          &+ &+ & &+ \\\\\n",
    "                          & c_{1n}x_nv_1 + &c_{2n}x_nv_2 + &\\cdots& + c_{mn}x_{m1}v_{m} \\\\\n",
    "                          = & 0\n",
    "\\end{aligned}\n",
    "$$\n",
    "\n"
   ]
  },
  {
   "cell_type": "markdown",
   "id": "b51202a4-347e-49d4-88d1-7efca9a1a4b8",
   "metadata": {},
   "source": [
    "### 推论 2.3\n",
    "\n",
    "如果向量空间有生成集 $\\{v_1, \\cdots, v_n\\}$，那么\n",
    "1) $\\{v_1, \\cdots, v_n\\}$ 包含一个基\n",
    "2) V 中任意线性无关子集可以扩展为基\n",
    "3) V 有基\n",
    "4) V 的任意两个基总有共同的有限元素个数，且 $\\le m$\n",
    "此时我们称 V 是有限维度的。基的元素称为向量空间的维度，写作 $\\dim V$。如果V没有有限生成集，则我们称其有无限生维度。\n",
    "\n",
    "#### 证明\n",
    "\n",
    "我们逐个去掉 $\\{v_1, \\cdots, v_n\\}$ 中的元素，就可以得到 1)。\n",
    "\n",
    "对于 2)，由命题2.1 可知，此时线性无关集的元素 $\\le m$。如果我们在保持线性无关的前提下，逐个向此集合加入元素，总会到达一个阶段，此时再加入任意新元素都会破坏线性无关。命题 2.1 说明此时我们得到了一个基。\n",
    "\n",
    "对于 3)，我们回顾 1)，这个过程总可以得到一个基。\n",
    "\n",
    "对于 4)，我们应用命题2.2，总是能得到两个有相同元素个数的基。\n",
    "\n",
    "#### 例\n",
    "\n",
    "由 k 行 n 列矩阵得到的向量空间 $M_{kn}(\\mathbb{F})$ 有 kn 个维度。\n",
    "\n",
    "所有一元多项式构成的向量空间是无限维的，因为 0 和阶数 $\\le n$ 的多项式组成的向量子空间是 n+1 维的。\n"
   ]
  },
  {
   "cell_type": "markdown",
   "id": "fda2bb23-c978-421e-a336-cc6d551f1c33",
   "metadata": {},
   "source": [
    "### 推论 2.4\n",
    "\n",
    "如果 V 是一个 $\\dim{V}=n$ 的有限维向量子空间，那么任意 n 个元素的生成集是一个基，任意 n 个元素的线性无关集是一个基。因此 V 的任意 n 维向量子空间 U 与 V 重合。\n",
    "\n",
    "#### 证明\n",
    "\n",
    "如果我们考虑推论 2.3 的 d，那么由其 a 和 b立刻可以得到推论。"
   ]
  },
  {
   "cell_type": "markdown",
   "id": "8ebfa23d-f81f-487d-a43e-702721fd638b",
   "metadata": {},
   "source": [
    "### 推论 2.5\n",
    "\n",
    "如果 U 是有限维向量空间 V 的向量子空间，那么 U 一定也是有限维的，且 $\\dim U \\le \\dim V$。\n",
    "\n",
    "#### 证明\n",
    "\n",
    "令 $\\{v_1, \\cdots, v_m\\}$ 是 V 的基，考虑命题 2.2，任意 U 中的线性无关子集的元素数 $\\le m$。它在 V 中也是线性无关的。我们因此可以在 U 中选择出 $\\le m$个元素，构成一个最大的线性无关子集。根据命题 2.1a ，这个子集是 U 的基。"
   ]
  }
 ],
 "metadata": {
  "kernelspec": {
   "display_name": "Python 3 (ipykernel)",
   "language": "python",
   "name": "python3"
  },
  "language_info": {
   "codemirror_mode": {
    "name": "ipython",
    "version": 3
   },
   "file_extension": ".py",
   "mimetype": "text/x-python",
   "name": "python",
   "nbconvert_exporter": "python",
   "pygments_lexer": "ipython3",
   "version": "3.13.0"
  }
 },
 "nbformat": 4,
 "nbformat_minor": 5
}
