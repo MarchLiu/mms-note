{
 "cells": [
  {
   "cell_type": "markdown",
   "id": "0b364ed3-8da8-4f91-8e73-014eac52f776",
   "metadata": {},
   "source": [
    "# 矩阵\n",
    "\n",
    "这篇笔记是 Basic Algebra 的 1.5和 1.6。\n",
    "\n",
    "以下内容讨论以数域 $\\mathbb{F}$ 为元素的矩阵的性质。\n",
    "\n",
    "数域 $\\mathbb{F}$ 包含有理数域 $\\mathbb{Q}$，实数域 $\\mathbb{R}$ 和复数域 $\\mathbb{Z}$ 。\n",
    "\n",
    "这里我们将 $\\mathbb{F}$ 中的元素视作标量。\n",
    "\n",
    "## 行约简\n",
    "\n",
    "术语“行约简(row reduction)”指代了对 $\\mathbb{F}$ 上的代数线性方程组的一类主要求解方法。这类方程组的形式为：\n",
    "\n",
    "$$\n",
    "\\begin{align*}\n",
    "a_{11} x_1 + a_{12} x_2 + \\cdots + a_{1n} x_n &= b_1, \\\\\n",
    "&\\ \\vdots \\\\\n",
    "a_{k1} x_1 + a_{k2} x_2 + \\cdots + a_{kn} x_n &= b_k, \\\\\n",
    "\\end{align*}\n",
    "$$\n",
    "\n",
    "其中，$a_{ij}$ 和 $b_{k}$ 是已知的标量，$x_j$ 是未知数，或称变量。该方法对方程反复应用三种操作实现目的。因为其逆也是同类的，这三种操作都保持了解集 $(x_1, \\ldots, x_n)$。"
   ]
  },
  {
   "cell_type": "markdown",
   "id": "55a18514-1f1e-4c44-9c2a-fd55e44a174b",
   "metadata": {},
   "source": [
    "这三种操作分别是\n",
    "1. 交换两个方程\n",
    "2. 用一个标量与一个方程相乘\n",
    "3. 将一个方程的倍数加到目标方程上\n"
   ]
  },
  {
   "cell_type": "markdown",
   "id": "14be20a5-1b78-413a-9227-eaca59550e04",
   "metadata": {},
   "source": [
    "现在我们将方程组写成矩阵的形式。\n",
    "\n",
    "$$\n",
    "\\left(\n",
    "\\begin{array}{cccc|c}\n",
    "a_{11} & a_{12} & \\cdots & a_{1n} & b_{1} \\\\\n",
    " & \\ddots & & & \\vdots \\\\\n",
    "a_{k1} & a_{k2} & \\cdots & a_{kn} & b_{k} \\\\\n",
    "\\end{array}\n",
    "\\right).\n",
    "$$"
   ]
  },
  {
   "cell_type": "markdown",
   "id": "8ed87bc1-8f93-491b-8b56-b273242dd2be",
   "metadata": {},
   "source": [
    "现在，三种方程求解方法对应为了矩阵的三种行操作：\n",
    "\n",
    "1. 交换两行\n",
    "2. 用一个标量与一行中的每个项\n",
    "3. 将一行的倍数加到目标行上\n",
    "\n",
    "这称为矩阵的初等行变换。"
   ]
  },
  {
   "cell_type": "markdown",
   "id": "39be3ba1-24c6-4407-b9b6-6a17c72988b1",
   "metadata": {},
   "source": [
    "这样，方程组求解就变成了通过初等行变换将对应的k行m列的矩阵变成行约化阶梯形式。我们的目标是将矩阵转换为：\n",
    "* 存在 $0 \\le l \\le k$，使前l行有至少一个非0项，其它行的项全为0。\n",
    "* 每一个非0行的第一个非0项系数为1，我们称第 $i^{th}$ 行在 $j^{th}$ 个项有这个 1。\n",
    "* 整数 $j(i)$ 是关于 j 的严格递增的函数。并且 $i^{th}$ 项是唯一的非零项\n",
    "\n"
   ]
  },
  {
   "cell_type": "markdown",
   "id": "a07be9a8-50f8-40f8-a701-62c8c9c0f080",
   "metadata": {},
   "source": [
    "### 命题 1.25\n",
    "\n",
    "任何 k 行 n 列的矩阵都可以通过行简化方法转换为满足前述三个规则的形式。"
   ]
  },
  {
   "cell_type": "markdown",
   "id": "13d429c7-5dcd-4c05-ba55-d290787bb2de",
   "metadata": {},
   "source": [
    "### 命题 1.26\n",
    "\n",
    "对于 n 个变量的 k 阶方程组的求解过程，我们有如下总结\n",
    "1. 对角线上的变量与独立变量共有n个\n",
    "2. 对角线变量不超过非零行的个数，所以总是小于等于k的\n",
    "3. 如果解存在，它们有如下形式：\n",
    "$$\n",
    "\\text{列} + \\underbrace{\\text{独立变量}}_{x_j} \\times \\text{列} + \\cdots + \\underbrace{\\text{独立变量}}_{x_j} \\times \\text{列}\n",
    "$$\n",
    "此时每个独立变量是 $\\mathbb{F}$ 中的自由参数，与$x_j$相乘的列，第j项系数为 1 其它为0。\n",
    "4. 齐次方程组，即所有右边都等于 0 的方程组，若方程的数量 \\(k\\) 少于变量的数量 \\(n\\)，则存在非零解，\n",
    "5. 非齐次方程组，即右边不全为 0 的方程组，其所有解均由任一特解与对应齐次方程组的任一解之和给出。"
   ]
  },
  {
   "cell_type": "markdown",
   "id": "2fb04ba1-93be-41ee-8ce7-325e5056fc1e",
   "metadata": {},
   "source": [
    "### 命题 1.27\n",
    "\n",
    "对于k行n列矩阵的行约简，我们有如下总结\n",
    "1. 对角线变量和独立变量之和为n\n",
    "2. 对角线变量的个数等于非0行的个数，因此不超过n\n",
    "3. k = n 时，要么结果矩阵为单位矩阵，要么包含0行\n",
    "\n",
    "这一章里作者用 array 而非 matrix 指代矩阵，我个人理解主要是为过渡到后面“正规”的矩阵计算内容。这里是通过方程组引出一些基本概念。有些地方叙述的并不严谨，例如行约简当然可以简化到单位阵，但是这通常是为了求秩，对解方程并不是一个有直接帮助的做法。"
   ]
  },
  {
   "cell_type": "markdown",
   "id": "949f11b8-da51-4f64-8940-f94916af1690",
   "metadata": {},
   "source": [
    "## 矩阵\n",
    "\n",
    "这里作者更明确的定义了矩阵、项、对角项之类的基本概念和一些简写的记法。\n",
    "\n",
    "关于矩阵的加法，有如下性质\n",
    "1. 加法满足\n",
    "   1. 加法满足结合律\n",
    "   2. 对于所有$\\mathbb{F}$中的 $\\mathbb{M}_{kn} $，都有 $A+0=A = 0+A=A$\n",
    "   3. 对于所有$\\mathbb{F}$中的 $\\mathbb{M}_{kn} $，都有 $A+(-A)=(-A)+A=0$\n",
    "   4.  对于所有$\\mathbb{F}$中的 A 和 B ，加法都满足交换律\n",
    "2. 标量乘法满足\n",
    "   1. 对于标量c、d和$\\mathbb{F}$中的 A，满足$(cd)A=c(dA)$\n",
    "   2. 对于1和$\\mathbb{F}$中的 A，满足 $1A=A$\n",
    "3. 分配律\n",
    "   1. 对于标量c和$\\mathbb{F}$中的A和B， $c(A + B) = cA + cB$\n",
    "   2. 对于标量c、d和 $\\mathbb{F}$中的A ，$(c+d)A=cA+dA$"
   ]
  },
  {
   "cell_type": "markdown",
   "id": "8240a9ee-2eeb-45b6-8740-e58d6cdab858",
   "metadata": {},
   "source": [
    "### 命题 1.28\n",
    "\n",
    "矩阵乘法满足\n",
    "1. 对于 $M_{km}(\\mathbb{F})$ 中的 A 和 $M_{mn}{\\mathbb{F}}$ 中的 B，以及 $M_{np}(\\mathbb{F})$中的C，满足结合律 $(AB)C=A(BC)$\n",
    "2. 同理，对于满足乘法要求的矩阵，分配律 $A(B+C)=AB+AC$和 $(A+B)D=AD+BD$也成立\n",
    "\n",
    "需要注意的是矩阵乘法通常不能满足交换律。"
   ]
  },
  {
   "cell_type": "markdown",
   "id": "64d5e175-060a-45f2-b481-6c5bb4fbdc14",
   "metadata": {},
   "source": [
    "单位矩阵I本身没有太多要笔记的，内克罗函数（Kronecker delta）的形式记录一下。\n",
    "\n",
    "$$\n",
    "\\delta_{ij}=\\begin{cases}\n",
    "1 & \\text{if } i = j, \\\\\n",
    "0 & \\text{if } i \\neq j.\n",
    "\\end{cases}\n",
    "$$"
   ]
  },
  {
   "cell_type": "markdown",
   "id": "131b0030-87a7-4e61-910f-aff2022c26e5",
   "metadata": {},
   "source": [
    "矩阵求逆的过程，相当于通过行约简将矩阵 $(A|I)$ 转化为 $(I|B)$"
   ]
  },
  {
   "cell_type": "markdown",
   "id": "eb55b093-0af2-44ea-b147-6ae2ed7eb3ce",
   "metadata": {},
   "source": [
    "### 命题 1.29\n",
    "\n",
    "每个基本行约简操作等效于一个可逆矩阵左乘目标矩阵，其逆矩阵是对应的逆操作。\n",
    "交换i、j两行相当于在i和j位置满足以下形式，其它位置与单位矩阵相同的矩阵：\n",
    "$$\n",
    "\\begin{array}{c|cc}\n",
    "  & i & j \\\\\n",
    "\\hline\n",
    "i & 0 & 1 \\\\\n",
    "j & 1 & 0 \\\\\n",
    "\\end{array}\n",
    "$$\n",
    "这个矩阵是它自己的逆\n",
    "\n",
    "同理对第i行乘一个标量c相当于乘一个$i^{th}$元素为c，其它对角线元素都是1，对角线之外为0的矩阵。它的逆是$i{th}$为$c{-1}$的同一矩阵。\n",
    "\n",
    "对第i行加上j行的a倍的操作参考前述，可以定义为单位阵在指定位置做如下修改后的矩阵，它的逆只需要将 a 替换为 -a。\n",
    "$$\n",
    "\\begin{array}{c|cc}\n",
    "  & i & j \\\\\n",
    "\\hline\n",
    "i & 0 & a \\\\\n",
    "j & 1 & 0 \\\\\n",
    "\\end{array}\n",
    "$$\n",
    "\n",
    "这些矩阵称为初等矩阵。"
   ]
  },
  {
   "cell_type": "markdown",
   "id": "bb2ec800-ee77-4cb0-aa10-b16c0d779620",
   "metadata": {},
   "source": [
    "### 定理 1.30\n",
    "\n",
    "以下 $n\\times n$ 矩阵的叙述是等效的\n",
    "1. 行约简结果是单位阵\n",
    "2. A 是若干初等矩阵的乘积\n",
    "3. 对于 $\n",
    "X = \\begin{pmatrix}\n",
    "x_1 \\\\\n",
    "\\vdots \\\\\n",
    "x_n\n",
    "\\end{pmatrix}\n",
    "$, 方程组 $AX=0$的唯一解是 $X=0$"
   ]
  },
  {
   "cell_type": "markdown",
   "id": "e0e628cf-8650-4802-b492-c6781bf596e5",
   "metadata": {},
   "source": [
    "### 定理 1.31\n",
    "如果方阵A得求解过程从 $(A|I)$ 得到了 $(I|X)$，那么A是可逆的，它的逆是X。如果求解得到 (R|Y)，R有0行，那么A不可逆。\n",
    "\n",
    "\n"
   ]
  },
  {
   "cell_type": "markdown",
   "id": "8372a456-6f0a-4437-9d9a-111d344f7bce",
   "metadata": {},
   "source": [
    "### 推论 1.32\n",
    "\n",
    "对于 $n\\times n$的矩阵A，如果存在 $n \\times n$的矩阵B使得 $AB=BA=I$，则称 A 有逆，B是 A 的逆矩阵，或记做 $A^{-1}$。对于可逆矩阵，它的逆是唯一的。"
   ]
  }
 ],
 "metadata": {
  "kernelspec": {
   "display_name": "Python 3 (ipykernel)",
   "language": "python",
   "name": "python3"
  },
  "language_info": {
   "codemirror_mode": {
    "name": "ipython",
    "version": 3
   },
   "file_extension": ".py",
   "mimetype": "text/x-python",
   "name": "python",
   "nbconvert_exporter": "python",
   "pygments_lexer": "ipython3",
   "version": "3.13.0"
  }
 },
 "nbformat": 4,
 "nbformat_minor": 5
}
