{
 "cells": [
  {
   "cell_type": "markdown",
   "id": "e79a16d3-7bd9-4ba0-b231-a3c40b1849f0",
   "metadata": {},
   "source": [
    "# 整数的一些基本代数知识\n",
    "\n",
    "本来，我准备从矩阵或者行列式开始做笔记，不过这一章读着满亲切的，不妨记一记，就当老年人的复健运动吧。\n",
    "\n",
    "有多亲切？我大学第一堂代数课就讲的这些。\n",
    "\n",
    "第二天？第二天就行列式了。\n",
    "\n",
    "这门课给我最深刻的印象是，如果在代数课上掉了支笔，下课再去捡。\n",
    "\n",
    "数学分析？数学分析不捡笔也听不懂的，放心。\n",
    "\n",
    "当然，这仅对大一新生，后面的代数一点儿也不简单。"
   ]
  },
  {
   "cell_type": "markdown",
   "id": "2ab9dcdb-d7f1-42bd-aa01-fa42f8013bf8",
   "metadata": {},
   "source": [
    "## 除法和欧几里得算法"
   ]
  },
  {
   "cell_type": "markdown",
   "id": "712c0e5b-4b96-4a1d-84a6-e0346a7a7438",
   "metadata": {},
   "source": [
    "### 命题 1.1 \n",
    "\n",
    "对于整数 a 和 b $b\\neq0$，存在唯一的整数 q 和 r。使得 $a = bq+r$ 及 $0\\le r \\le \\left|b\\right|$ 。 $\\tag{Prop 1.1}$"
   ]
  },
  {
   "cell_type": "markdown",
   "id": "5bff6dc6-14fa-4c6f-bcef-2ff38bdeeedb",
   "metadata": {},
   "source": [
    "### 命题 1.2\n",
    "\n",
    "给定整数 a 和 b $b\\neq 0$，令 $d = GCD(a, b)$ 。有\n",
    "1. d就是欧几里得算法中的 $r_n$\n",
    "2. 任何同时整除 a 和 b 的整数 $d'$ 一定整除 d\n",
    "3. 存在整数 x 和 y 使得 $ax+by=d$\n",
    "\n",
    "命题 1.2 （3）也被称为 Bezout 等式"
   ]
  },
  {
   "cell_type": "markdown",
   "id": "553d6da5-84e2-4dff-8bf7-18afd89376fb",
   "metadata": {},
   "source": [
    "### 推论 1.3\n",
    "\n",
    "任给 $\\mathbb{Z}$ 中的非零整数 c，如果 c 整除 mn，且 $GCD(c, m)=1$ ，则 c 整除 n 。"
   ]
  },
  {
   "cell_type": "markdown",
   "id": "bb1cc8a3-c58c-4e4a-8f40-09a1bbf6b64b",
   "metadata": {},
   "source": [
    "### 推论 1.4\n",
    "\n",
    "如果 $\\mathbb{Z}$中的非零整数 a 和 b，有 $GCD(a, b)=1$，并且它们都整除 m，则 $ab$ 也整除 m。"
   ]
  },
  {
   "cell_type": "markdown",
   "id": "e8b7a7f3-67fe-46c7-b2ec-4e8dc41dbe45",
   "metadata": {},
   "source": [
    "## 整数的质因子\n"
   ]
  },
  {
   "cell_type": "markdown",
   "id": "bb1d470e-548b-4293-92cf-0b806e1ed5af",
   "metadata": {},
   "source": [
    "### 定理 1.5 算术基本定理\n",
    "\n",
    "将 1 定义为空乘积，则每个正整数 n 都可以写成质因子分解 $n=p_1p_2...p_r$ 。这里的素因子分解是唯一的，如果有 $n=q_1q_2...q_s$，则有 $r=s$ ，且对于 $1\\le j\\le r$，因子 $p_j=q_j$ 。"
   ]
  },
  {
   "cell_type": "markdown",
   "id": "bc7623ae-6c1d-4129-b6fc-037af5fd968d",
   "metadata": {},
   "source": [
    "### 引理 1.6 欧几里得引理\n",
    "\n",
    "对于整数集 $\\mathbb{Z}$ 中的质数 p ，如果p整除 a 和 b 的积，要么 p 整除 a，要么 p 整除 b。"
   ]
  },
  {
   "cell_type": "markdown",
   "id": "e6a90125-3927-443c-bfee-1b3a9904b9a3",
   "metadata": {},
   "source": [
    "### 整数的质因子分解展开\n",
    "\n",
    "将整数n写为素数序列的乘积展开 $p_{1}^{k_1}...p_{r}^{k_r}$，使 p 按整数序排列，上标表示$p_j$的数目，并将个数为0的素数p省略，保留 $k\\ge 0$，的因子，即为整数的质因子分解。\n",
    "\n",
    "这很显然，其实就是每个素因子的出现次数等于它在n的分解中的幂次，那么不存在于n的素因子分解中的素数恰好是0次幂。\n"
   ]
  },
  {
   "cell_type": "markdown",
   "id": "3615e2de-dacc-4b12-9dde-ea13c05ada5c",
   "metadata": {},
   "source": [
    "### 推论 1.7\n",
    "\n",
    "如果 $n=p_{1}^{k_1}...p_{r}^{k_r}$ 是整数 n 的质因子分解，则对于所有满足 $0\\le l_j \\le k_j$ 的 j，总是有 $d=p_{1}^{l_1}...p_{r}^{l_r}$ 整除 n。\n",
    "\n",
    "这里可以理解成整数n的素因子分解的子集总是能构成一个可以整除n的整数d。\n",
    "\n",
    "推广到 $\\mathbb{Z}$ 时，给正整数分解乘上对应的 $\\pm 1$ 即可。"
   ]
  },
  {
   "cell_type": "markdown",
   "id": "6f985266-64f0-4c5b-adae-37db108a9afe",
   "metadata": {},
   "source": [
    "### 推论 1.8\n",
    "\n",
    "如果两个整数 a 和 b 的素因子分解为 $a=_{1}^{k_1}...p_{r}^{k_r}$ 和 $b = p_{1}^{l_1}...p_{r}^{l_r}$，则有\n",
    "\n",
    "$$\n",
    "GCD(a, b) = p_{1}^{\\min(k_1, l_1)}...p_{r}^{\\min(k_r, l_r)}\n",
    "$$\n",
    "\n",
    "从集合的角度，这很显然。"
   ]
  },
  {
   "cell_type": "markdown",
   "id": "a3d389a5-7f36-4c2b-97a5-0d20a29a413b",
   "metadata": {},
   "source": [
    "### 推论 1.9 中国剩余定理\n",
    "\n",
    "如 a 和 b 互质，对于每一对满足 $0 \\le r \\le a$ 和 $0 \\le s \\le b$ 的整数 $(s, r)$，存在唯一的 n 满足 $0 \\le n \\le ab$ ，使得 a 整除 $n-r$ ，b 整除 $n-s$。并且对于任意 $0 \\le n \\le ab$ ，都有对应的 $(r, s)$ 整数对。\n",
    "\n",
    "也就是说，如果 $GCD(a, b)=1$，对任意$0 \\le r \\le a$ 和 $0 \\le s \\le b$， 存在唯一的 $0 \\le n \\le ab$ 使得 $n\\equiv r \\, mode\\, a$ 和 $n \\equiv s \\, mode \\, b$ 。\n",
    "\n",
    "中国剩余定理对两两互质的多个整数仍然有效，[维基百科](https://zh.wikipedia.org/wiki/%E4%B8%AD%E5%9B%BD%E5%89%A9%E4%BD%99%E5%AE%9A%E7%90%86)上介绍了这种情况。"
   ]
  },
  {
   "cell_type": "markdown",
   "id": "cbfbadf5-84b0-460e-9852-194df15ec7a7",
   "metadata": {},
   "source": [
    "### 欧拉 $\\varphi$ 函数\n",
    "\n",
    "对于正整数 n ，我们定义欧拉 $\\varphi$ 函数为满足 $0 \\le k \\le n$ 的所有与n互质的k的个数。"
   ]
  },
  {
   "cell_type": "markdown",
   "id": "82c01d7b-ca17-47ad-95da-7e6246cb5f99",
   "metadata": {},
   "source": [
    "### 推论 1.10\n",
    "\n",
    "取整数 N > 1，令 $N = p_{1}^{k_1}...p_{r}^{k_r}$ 为 N 的素因子分解，则有\n",
    "\n",
    "$$\n",
    "\\varphi(N) = \\Pi_{j=1}^{r}p_{j}^{k_j-1}(p_j - 1)\n",
    "$$"
   ]
  },
  {
   "cell_type": "markdown",
   "id": "e9b52e0b-8a34-4b50-90e6-d3b79fc86f7d",
   "metadata": {},
   "source": [
    "### 推论 1.11\n",
    "\n",
    "对于正整数 $a_1, a_2, ..., a_t$ ，如果 d 是它们的最大公约数，则\n",
    "\n",
    "1. 对于每一个满足 $1 \\le j \\le t $ 的整数 j，$a_j=_{1}^{k_{1,j}}...p_{r}^{k_{r,j}}$ 是 $a_j$ 的素因子展开，那么它遵循\n",
    "  $$\n",
    "d = p_{1}^{\\min_{1\\le j \\le t}(k_1, j)}...p_{r}^{\\min_{1\\le j \\le t}(k_r, j)}\n",
    "  $$\n",
    "2. 任何 $a_1, a_2, ..., a_t$ 的公因子 d' 都必须整除 d。\n",
    "3. 如果 $t > 1$，$d = GCD(GCD(a_1, . . . , a_t−1), a_t)$\n",
    "4. 存在整数 $x_1, x_2, ... x_t$ 使得 $a_1x_1+...+a_tx_t=d$"
   ]
  }
 ],
 "metadata": {
  "kernelspec": {
   "display_name": "Python 3 (ipykernel)",
   "language": "python",
   "name": "python3"
  },
  "language_info": {
   "codemirror_mode": {
    "name": "ipython",
    "version": 3
   },
   "file_extension": ".py",
   "mimetype": "text/x-python",
   "name": "python",
   "nbconvert_exporter": "python",
   "pygments_lexer": "ipython3",
   "version": "3.13.0"
  }
 },
 "nbformat": 4,
 "nbformat_minor": 5
}
